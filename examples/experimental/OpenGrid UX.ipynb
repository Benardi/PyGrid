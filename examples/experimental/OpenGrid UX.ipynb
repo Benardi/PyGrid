{
 "cells": [
  {
   "cell_type": "code",
   "execution_count": 1,
   "metadata": {},
   "outputs": [],
   "source": [
    "import requests\n",
    "import syft as sy\n",
    "from grid import Grid\n",
    "import torch as th\n",
    "import time\n",
    "hook = sy.TorchHook(th)"
   ]
  },
  {
   "cell_type": "code",
   "execution_count": 4,
   "metadata": {},
   "outputs": [],
   "source": [
    "grid = Grid()"
   ]
  },
  {
   "cell_type": "code",
   "execution_count": 5,
   "metadata": {},
   "outputs": [
    {
     "name": "stdout",
     "output_type": "stream",
     "text": [
      "5001\n",
      "5002\n",
      "5003\n",
      "5004\n",
      "5005\n",
      "5006\n",
      "5007\n",
      "5008\n"
     ]
    }
   ],
   "source": [
    "for port in range(5001,5009):\n",
    "    print(port)\n",
    "    grid.workers.append(grid.get_worker(flask_port=port))"
   ]
  },
  {
   "cell_type": "code",
   "execution_count": 7,
   "metadata": {},
   "outputs": [
    {
     "data": {
      "text/plain": [
       "'<!DOCTYPE HTML PUBLIC \"-//W3C//DTD HTML 4.01 Transitional//EN\"\\n  \"http://www.w3.org/TR/html4/loose.dtd\">\\n<html>\\n  <head>\\n    <title>KeyError: \\'FLASK_HOST\\' // Werkzeug Debugger</title>\\n    <link rel=\"stylesheet\" href=\"?__debugger__=yes&amp;cmd=resource&amp;f=style.css\"\\n        type=\"text/css\">\\n    <!-- We need to make sure this has a favicon so that the debugger does\\n         not by accident trigger a request to /favicon.ico which might\\n         change the application state. -->\\n    <link rel=\"shortcut icon\"\\n        href=\"?__debugger__=yes&amp;cmd=resource&amp;f=console.png\">\\n    <script src=\"?__debugger__=yes&amp;cmd=resource&amp;f=jquery.js\"></script>\\n    <script src=\"?__debugger__=yes&amp;cmd=resource&amp;f=debugger.js\"></script>\\n    <script type=\"text/javascript\">\\n      var TRACEBACK = 5019911168,\\n          CONSOLE_MODE = false,\\n          EVALEX = true,\\n          EVALEX_TRUSTED = false,\\n          SECRET = \"eKnpdFV0bRdhXwRNiVC9\";\\n    </script>\\n  </head>\\n  <body style=\"background-color: #fff\">\\n    <div class=\"debugger\">\\n<h1>builtins.KeyError</h1>\\n<div class=\"detail\">\\n  <p class=\"errormsg\">KeyError: \\'FLASK_HOST\\'</p>\\n</div>\\n<h2 class=\"traceback\">Traceback <em>(most recent call last)</em></h2>\\n<div class=\"traceback\">\\n  \\n  <ul><li><div class=\"frame\" id=\"frame-5019913968\">\\n  <h4>File <cite class=\"filename\">\"/Users/atrask/anaconda/lib/python3.6/site-packages/flask/app.py\"</cite>,\\n      line <em class=\"line\">2309</em>,\\n      in <code class=\"function\">__call__</code></h4>\\n  <div class=\"source\"><pre class=\"line before\"><span class=\"ws\"></span> </pre>\\n<pre class=\"line before\"><span class=\"ws\">    </span>def __call__(self, environ, start_response):</pre>\\n<pre class=\"line before\"><span class=\"ws\">        </span>&quot;&quot;&quot;The WSGI server calls the Flask application object as the</pre>\\n<pre class=\"line before\"><span class=\"ws\">        </span>WSGI application. This calls :meth:`wsgi_app` which can be</pre>\\n<pre class=\"line before\"><span class=\"ws\">        </span>wrapped to applying middleware.&quot;&quot;&quot;</pre>\\n<pre class=\"line current\"><span class=\"ws\">        </span>return self.wsgi_app(environ, start_response)</pre>\\n<pre class=\"line after\"><span class=\"ws\"></span> </pre>\\n<pre class=\"line after\"><span class=\"ws\">    </span>def __repr__(self):</pre>\\n<pre class=\"line after\"><span class=\"ws\">        </span>return \\'&lt;%s %r&gt;\\' % (</pre>\\n<pre class=\"line after\"><span class=\"ws\">            </span>self.__class__.__name__,</pre>\\n<pre class=\"line after\"><span class=\"ws\">            </span>self.name,</pre></div>\\n</div>\\n\\n<li><div class=\"frame\" id=\"frame-5019914024\">\\n  <h4>File <cite class=\"filename\">\"/Users/atrask/anaconda/lib/python3.6/site-packages/flask/app.py\"</cite>,\\n      line <em class=\"line\">2295</em>,\\n      in <code class=\"function\">wsgi_app</code></h4>\\n  <div class=\"source\"><pre class=\"line before\"><span class=\"ws\">            </span>try:</pre>\\n<pre class=\"line before\"><span class=\"ws\">                </span>ctx.push()</pre>\\n<pre class=\"line before\"><span class=\"ws\">                </span>response = self.full_dispatch_request()</pre>\\n<pre class=\"line before\"><span class=\"ws\">            </span>except Exception as e:</pre>\\n<pre class=\"line before\"><span class=\"ws\">                </span>error = e</pre>\\n<pre class=\"line current\"><span class=\"ws\">                </span>response = self.handle_exception(e)</pre>\\n<pre class=\"line after\"><span class=\"ws\">            </span>except:</pre>\\n<pre class=\"line after\"><span class=\"ws\">                </span>error = sys.exc_info()[1]</pre>\\n<pre class=\"line after\"><span class=\"ws\">                </span>raise</pre>\\n<pre class=\"line after\"><span class=\"ws\">            </span>return response(environ, start_response)</pre>\\n<pre class=\"line after\"><span class=\"ws\">        </span>finally:</pre></div>\\n</div>\\n\\n<li><div class=\"frame\" id=\"frame-5019914080\">\\n  <h4>File <cite class=\"filename\">\"/Users/atrask/anaconda/lib/python3.6/site-packages/flask/app.py\"</cite>,\\n      line <em class=\"line\">1741</em>,\\n      in <code class=\"function\">handle_exception</code></h4>\\n  <div class=\"source\"><pre class=\"line before\"><span class=\"ws\">            </span># if we want to repropagate the exception, we can attempt to</pre>\\n<pre class=\"line before\"><span class=\"ws\">            </span># raise it with the whole traceback in case we can do that</pre>\\n<pre class=\"line before\"><span class=\"ws\">            </span># (the function was actually called from the except part)</pre>\\n<pre class=\"line before\"><span class=\"ws\">            </span># otherwise, we just raise the error again</pre>\\n<pre class=\"line before\"><span class=\"ws\">            </span>if exc_value is e:</pre>\\n<pre class=\"line current\"><span class=\"ws\">                </span>reraise(exc_type, exc_value, tb)</pre>\\n<pre class=\"line after\"><span class=\"ws\">            </span>else:</pre>\\n<pre class=\"line after\"><span class=\"ws\">                </span>raise e</pre>\\n<pre class=\"line after\"><span class=\"ws\"></span> </pre>\\n<pre class=\"line after\"><span class=\"ws\">        </span>self.log_exception((exc_type, exc_value, tb))</pre>\\n<pre class=\"line after\"><span class=\"ws\">        </span>if handler is None:</pre></div>\\n</div>\\n\\n<li><div class=\"frame\" id=\"frame-5019914136\">\\n  <h4>File <cite class=\"filename\">\"/Users/atrask/anaconda/lib/python3.6/site-packages/flask/_compat.py\"</cite>,\\n      line <em class=\"line\">35</em>,\\n      in <code class=\"function\">reraise</code></h4>\\n  <div class=\"source\"><pre class=\"line before\"><span class=\"ws\">    </span>from io import StringIO</pre>\\n<pre class=\"line before\"><span class=\"ws\"></span> </pre>\\n<pre class=\"line before\"><span class=\"ws\">    </span>def reraise(tp, value, tb=None):</pre>\\n<pre class=\"line before\"><span class=\"ws\">        </span>if value.__traceback__ is not tb:</pre>\\n<pre class=\"line before\"><span class=\"ws\">            </span>raise value.with_traceback(tb)</pre>\\n<pre class=\"line current\"><span class=\"ws\">        </span>raise value</pre>\\n<pre class=\"line after\"><span class=\"ws\"></span> </pre>\\n<pre class=\"line after\"><span class=\"ws\">    </span>implements_to_string = _identity</pre>\\n<pre class=\"line after\"><span class=\"ws\"></span> </pre>\\n<pre class=\"line after\"><span class=\"ws\"></span>else:</pre>\\n<pre class=\"line after\"><span class=\"ws\">    </span>text_type = unicode</pre></div>\\n</div>\\n\\n<li><div class=\"frame\" id=\"frame-5019913856\">\\n  <h4>File <cite class=\"filename\">\"/Users/atrask/anaconda/lib/python3.6/site-packages/flask/app.py\"</cite>,\\n      line <em class=\"line\">2292</em>,\\n      in <code class=\"function\">wsgi_app</code></h4>\\n  <div class=\"source\"><pre class=\"line before\"><span class=\"ws\">        </span>ctx = self.request_context(environ)</pre>\\n<pre class=\"line before\"><span class=\"ws\">        </span>error = None</pre>\\n<pre class=\"line before\"><span class=\"ws\">        </span>try:</pre>\\n<pre class=\"line before\"><span class=\"ws\">            </span>try:</pre>\\n<pre class=\"line before\"><span class=\"ws\">                </span>ctx.push()</pre>\\n<pre class=\"line current\"><span class=\"ws\">                </span>response = self.full_dispatch_request()</pre>\\n<pre class=\"line after\"><span class=\"ws\">            </span>except Exception as e:</pre>\\n<pre class=\"line after\"><span class=\"ws\">                </span>error = e</pre>\\n<pre class=\"line after\"><span class=\"ws\">                </span>response = self.handle_exception(e)</pre>\\n<pre class=\"line after\"><span class=\"ws\">            </span>except:</pre>\\n<pre class=\"line after\"><span class=\"ws\">                </span>error = sys.exc_info()[1]</pre></div>\\n</div>\\n\\n<li><div class=\"frame\" id=\"frame-5019913800\">\\n  <h4>File <cite class=\"filename\">\"/Users/atrask/anaconda/lib/python3.6/site-packages/flask/app.py\"</cite>,\\n      line <em class=\"line\">1815</em>,\\n      in <code class=\"function\">full_dispatch_request</code></h4>\\n  <div class=\"source\"><pre class=\"line before\"><span class=\"ws\">            </span>request_started.send(self)</pre>\\n<pre class=\"line before\"><span class=\"ws\">            </span>rv = self.preprocess_request()</pre>\\n<pre class=\"line before\"><span class=\"ws\">            </span>if rv is None:</pre>\\n<pre class=\"line before\"><span class=\"ws\">                </span>rv = self.dispatch_request()</pre>\\n<pre class=\"line before\"><span class=\"ws\">        </span>except Exception as e:</pre>\\n<pre class=\"line current\"><span class=\"ws\">            </span>rv = self.handle_user_exception(e)</pre>\\n<pre class=\"line after\"><span class=\"ws\">        </span>return self.finalize_request(rv)</pre>\\n<pre class=\"line after\"><span class=\"ws\"></span> </pre>\\n<pre class=\"line after\"><span class=\"ws\">    </span>def finalize_request(self, rv, from_error_handler=False):</pre>\\n<pre class=\"line after\"><span class=\"ws\">        </span>&quot;&quot;&quot;Given the return value from a view function this finalizes</pre>\\n<pre class=\"line after\"><span class=\"ws\">        </span>the request by converting it into a response and invoking the</pre></div>\\n</div>\\n\\n<li><div class=\"frame\" id=\"frame-5019913912\">\\n  <h4>File <cite class=\"filename\">\"/Users/atrask/anaconda/lib/python3.6/site-packages/flask/app.py\"</cite>,\\n      line <em class=\"line\">1718</em>,\\n      in <code class=\"function\">handle_user_exception</code></h4>\\n  <div class=\"source\"><pre class=\"line before\"><span class=\"ws\">            </span>return self.handle_http_exception(e)</pre>\\n<pre class=\"line before\"><span class=\"ws\"></span> </pre>\\n<pre class=\"line before\"><span class=\"ws\">        </span>handler = self._find_error_handler(e)</pre>\\n<pre class=\"line before\"><span class=\"ws\"></span> </pre>\\n<pre class=\"line before\"><span class=\"ws\">        </span>if handler is None:</pre>\\n<pre class=\"line current\"><span class=\"ws\">            </span>reraise(exc_type, exc_value, tb)</pre>\\n<pre class=\"line after\"><span class=\"ws\">        </span>return handler(e)</pre>\\n<pre class=\"line after\"><span class=\"ws\"></span> </pre>\\n<pre class=\"line after\"><span class=\"ws\">    </span>def handle_exception(self, e):</pre>\\n<pre class=\"line after\"><span class=\"ws\">        </span>&quot;&quot;&quot;Default exception handling that kicks in when an exception</pre>\\n<pre class=\"line after\"><span class=\"ws\">        </span>occurs that is not caught.  In debug mode the exception will</pre></div>\\n</div>\\n\\n<li><div class=\"frame\" id=\"frame-5019914192\">\\n  <h4>File <cite class=\"filename\">\"/Users/atrask/anaconda/lib/python3.6/site-packages/flask/_compat.py\"</cite>,\\n      line <em class=\"line\">35</em>,\\n      in <code class=\"function\">reraise</code></h4>\\n  <div class=\"source\"><pre class=\"line before\"><span class=\"ws\">    </span>from io import StringIO</pre>\\n<pre class=\"line before\"><span class=\"ws\"></span> </pre>\\n<pre class=\"line before\"><span class=\"ws\">    </span>def reraise(tp, value, tb=None):</pre>\\n<pre class=\"line before\"><span class=\"ws\">        </span>if value.__traceback__ is not tb:</pre>\\n<pre class=\"line before\"><span class=\"ws\">            </span>raise value.with_traceback(tb)</pre>\\n<pre class=\"line current\"><span class=\"ws\">        </span>raise value</pre>\\n<pre class=\"line after\"><span class=\"ws\"></span> </pre>\\n<pre class=\"line after\"><span class=\"ws\">    </span>implements_to_string = _identity</pre>\\n<pre class=\"line after\"><span class=\"ws\"></span> </pre>\\n<pre class=\"line after\"><span class=\"ws\"></span>else:</pre>\\n<pre class=\"line after\"><span class=\"ws\">    </span>text_type = unicode</pre></div>\\n</div>\\n\\n<li><div class=\"frame\" id=\"frame-5019913744\">\\n  <h4>File <cite class=\"filename\">\"/Users/atrask/anaconda/lib/python3.6/site-packages/flask/app.py\"</cite>,\\n      line <em class=\"line\">1813</em>,\\n      in <code class=\"function\">full_dispatch_request</code></h4>\\n  <div class=\"source\"><pre class=\"line before\"><span class=\"ws\">        </span>self.try_trigger_before_first_request_functions()</pre>\\n<pre class=\"line before\"><span class=\"ws\">        </span>try:</pre>\\n<pre class=\"line before\"><span class=\"ws\">            </span>request_started.send(self)</pre>\\n<pre class=\"line before\"><span class=\"ws\">            </span>rv = self.preprocess_request()</pre>\\n<pre class=\"line before\"><span class=\"ws\">            </span>if rv is None:</pre>\\n<pre class=\"line current\"><span class=\"ws\">                </span>rv = self.dispatch_request()</pre>\\n<pre class=\"line after\"><span class=\"ws\">        </span>except Exception as e:</pre>\\n<pre class=\"line after\"><span class=\"ws\">            </span>rv = self.handle_user_exception(e)</pre>\\n<pre class=\"line after\"><span class=\"ws\">        </span>return self.finalize_request(rv)</pre>\\n<pre class=\"line after\"><span class=\"ws\"></span> </pre>\\n<pre class=\"line after\"><span class=\"ws\">    </span>def finalize_request(self, rv, from_error_handler=False):</pre></div>\\n</div>\\n\\n<li><div class=\"frame\" id=\"frame-5020070184\">\\n  <h4>File <cite class=\"filename\">\"/Users/atrask/anaconda/lib/python3.6/site-packages/flask/app.py\"</cite>,\\n      line <em class=\"line\">1799</em>,\\n      in <code class=\"function\">dispatch_request</code></h4>\\n  <div class=\"source\"><pre class=\"line before\"><span class=\"ws\">        </span># request came with the OPTIONS method, reply automatically</pre>\\n<pre class=\"line before\"><span class=\"ws\">        </span>if getattr(rule, \\'provide_automatic_options\\', False) \\\\</pre>\\n<pre class=\"line before\"><span class=\"ws\">           </span>and req.method == \\'OPTIONS\\':</pre>\\n<pre class=\"line before\"><span class=\"ws\">            </span>return self.make_default_options_response()</pre>\\n<pre class=\"line before\"><span class=\"ws\">        </span># otherwise dispatch to the handler for that endpoint</pre>\\n<pre class=\"line current\"><span class=\"ws\">        </span>return self.view_functions[rule.endpoint](**req.view_args)</pre>\\n<pre class=\"line after\"><span class=\"ws\"></span> </pre>\\n<pre class=\"line after\"><span class=\"ws\">    </span>def full_dispatch_request(self):</pre>\\n<pre class=\"line after\"><span class=\"ws\">        </span>&quot;&quot;&quot;Dispatches the request and on top of that performs request</pre>\\n<pre class=\"line after\"><span class=\"ws\">        </span>pre and postprocessing as well as HTTP exception catching and</pre>\\n<pre class=\"line after\"><span class=\"ws\">        </span>error handling.</pre></div>\\n</div>\\n\\n<li><div class=\"frame\" id=\"frame-5020070240\">\\n  <h4>File <cite class=\"filename\">\"/Users/atrask/PycharmProjects/Grid/grid/__init__.py\"</cite>,\\n      line <em class=\"line\">127</em>,\\n      in <code class=\"function\">get_connection</code></h4>\\n  <div class=\"source\"><pre class=\"line before\"><span class=\"ws\"></span> </pre>\\n<pre class=\"line before\"><span class=\"ws\">        </span>pid = run_command(&quot;python grid/create_process.py &quot; + str(port))</pre>\\n<pre class=\"line before\"><span class=\"ws\">        </span>print(&quot;PID:&quot; + str(pid))</pre>\\n<pre class=\"line before\"><span class=\"ws\"></span> </pre>\\n<pre class=\"line before\"><span class=\"ws\">        </span>output = {}</pre>\\n<pre class=\"line current\"><span class=\"ws\">        </span>output[&quot;host&quot;] = app.config[&quot;FLASK_HOST&quot;]</pre>\\n<pre class=\"line after\"><span class=\"ws\">        </span>output[&quot;port&quot;] = port</pre>\\n<pre class=\"line after\"><span class=\"ws\">        </span>output[&quot;pid&quot;] = pid</pre>\\n<pre class=\"line after\"><span class=\"ws\"></span> </pre>\\n<pre class=\"line after\"><span class=\"ws\">        </span>return json.dumps(output)</pre>\\n<pre class=\"line after\"><span class=\"ws\"></span> </pre></div>\\n</div>\\n</ul>\\n  <blockquote>KeyError: \\'FLASK_HOST\\'</blockquote>\\n</div>\\n\\n<div class=\"plain\">\\n  <form action=\"/?__debugger__=yes&amp;cmd=paste\" method=\"post\">\\n    <p>\\n      <input type=\"hidden\" name=\"language\" value=\"pytb\">\\n      This is the Copy/Paste friendly version of the traceback.  <span\\n      class=\"pastemessage\">You can also paste this traceback into\\n      a <a href=\"https://gist.github.com/\">gist</a>:\\n      <input type=\"submit\" value=\"create paste\"></span>\\n    </p>\\n    <textarea cols=\"50\" rows=\"10\" name=\"code\" readonly>Traceback (most recent call last):\\n  File &quot;/Users/atrask/anaconda/lib/python3.6/site-packages/flask/app.py&quot;, line 2309, in __call__\\n    return self.wsgi_app(environ, start_response)\\n  File &quot;/Users/atrask/anaconda/lib/python3.6/site-packages/flask/app.py&quot;, line 2295, in wsgi_app\\n    response = self.handle_exception(e)\\n  File &quot;/Users/atrask/anaconda/lib/python3.6/site-packages/flask/app.py&quot;, line 1741, in handle_exception\\n    reraise(exc_type, exc_value, tb)\\n  File &quot;/Users/atrask/anaconda/lib/python3.6/site-packages/flask/_compat.py&quot;, line 35, in reraise\\n    raise value\\n  File &quot;/Users/atrask/anaconda/lib/python3.6/site-packages/flask/app.py&quot;, line 2292, in wsgi_app\\n    response = self.full_dispatch_request()\\n  File &quot;/Users/atrask/anaconda/lib/python3.6/site-packages/flask/app.py&quot;, line 1815, in full_dispatch_request\\n    rv = self.handle_user_exception(e)\\n  File &quot;/Users/atrask/anaconda/lib/python3.6/site-packages/flask/app.py&quot;, line 1718, in handle_user_exception\\n    reraise(exc_type, exc_value, tb)\\n  File &quot;/Users/atrask/anaconda/lib/python3.6/site-packages/flask/_compat.py&quot;, line 35, in reraise\\n    raise value\\n  File &quot;/Users/atrask/anaconda/lib/python3.6/site-packages/flask/app.py&quot;, line 1813, in full_dispatch_request\\n    rv = self.dispatch_request()\\n  File &quot;/Users/atrask/anaconda/lib/python3.6/site-packages/flask/app.py&quot;, line 1799, in dispatch_request\\n    return self.view_functions[rule.endpoint](**req.view_args)\\n  File &quot;/Users/atrask/PycharmProjects/Grid/grid/__init__.py&quot;, line 127, in get_connection\\n    output[&quot;host&quot;] = app.config[&quot;FLASK_HOST&quot;]\\nKeyError: \\'FLASK_HOST\\'</textarea>\\n  </form>\\n</div>\\n<div class=\"explanation\">\\n  The debugger caught an exception in your WSGI application.  You can now\\n  look at the traceback which led to the error.  <span class=\"nojavascript\">\\n  If you enable JavaScript you can also use additional features such as code\\n  execution (if the evalex feature is enabled), automatic pasting of the\\n  exceptions and much more.</span>\\n</div>\\n      <div class=\"footer\">\\n        Brought to you by <strong class=\"arthur\">DON\\'T PANIC</strong>, your\\n        friendly Werkzeug powered traceback interpreter.\\n      </div>\\n    </div>\\n\\n    <div class=\"pin-prompt\">\\n      <div class=\"inner\">\\n        <h3>Console Locked</h3>\\n        <p>\\n          The console is locked and needs to be unlocked by entering the PIN.\\n          You can find the PIN printed out on the standard output of your\\n          shell that runs the server.\\n        <form>\\n          <p>PIN:\\n            <input type=text name=pin size=14>\\n            <input type=submit name=btn value=\"Confirm Pin\">\\n        </form>\\n      </div>\\n    </div>\\n  </body>\\n</html>\\n\\n<!--\\n\\nTraceback (most recent call last):\\n  File \"/Users/atrask/anaconda/lib/python3.6/site-packages/flask/app.py\", line 2309, in __call__\\n    return self.wsgi_app(environ, start_response)\\n  File \"/Users/atrask/anaconda/lib/python3.6/site-packages/flask/app.py\", line 2295, in wsgi_app\\n    response = self.handle_exception(e)\\n  File \"/Users/atrask/anaconda/lib/python3.6/site-packages/flask/app.py\", line 1741, in handle_exception\\n    reraise(exc_type, exc_value, tb)\\n  File \"/Users/atrask/anaconda/lib/python3.6/site-packages/flask/_compat.py\", line 35, in reraise\\n    raise value\\n  File \"/Users/atrask/anaconda/lib/python3.6/site-packages/flask/app.py\", line 2292, in wsgi_app\\n    response = self.full_dispatch_request()\\n  File \"/Users/atrask/anaconda/lib/python3.6/site-packages/flask/app.py\", line 1815, in full_dispatch_request\\n    rv = self.handle_user_exception(e)\\n  File \"/Users/atrask/anaconda/lib/python3.6/site-packages/flask/app.py\", line 1718, in handle_user_exception\\n    reraise(exc_type, exc_value, tb)\\n  File \"/Users/atrask/anaconda/lib/python3.6/site-packages/flask/_compat.py\", line 35, in reraise\\n    raise value\\n  File \"/Users/atrask/anaconda/lib/python3.6/site-packages/flask/app.py\", line 1813, in full_dispatch_request\\n    rv = self.dispatch_request()\\n  File \"/Users/atrask/anaconda/lib/python3.6/site-packages/flask/app.py\", line 1799, in dispatch_request\\n    return self.view_functions[rule.endpoint](**req.view_args)\\n  File \"/Users/atrask/PycharmProjects/Grid/grid/__init__.py\", line 127, in get_connection\\n    output[\"host\"] = app.config[\"FLASK_HOST\"]\\nKeyError: \\'FLASK_HOST\\'\\n\\n-->\\n'"
      ]
     },
     "execution_count": 7,
     "metadata": {},
     "output_type": "execute_result"
    }
   ],
   "source": [
    "grid.workers[0]"
   ]
  },
  {
   "cell_type": "code",
   "execution_count": 10,
   "metadata": {},
   "outputs": [],
   "source": [
    "x = th.tensor([1,2,3,10])"
   ]
  },
  {
   "cell_type": "code",
   "execution_count": 11,
   "metadata": {},
   "outputs": [],
   "source": [
    "x = x.send(worker)"
   ]
  },
  {
   "cell_type": "code",
   "execution_count": 12,
   "metadata": {},
   "outputs": [],
   "source": [
    "y = x + x"
   ]
  },
  {
   "cell_type": "code",
   "execution_count": 13,
   "metadata": {},
   "outputs": [],
   "source": [
    "y = y.get()"
   ]
  },
  {
   "cell_type": "code",
   "execution_count": 14,
   "metadata": {},
   "outputs": [
    {
     "data": {
      "text/plain": [
       "tensor([ 2,  4,  6, 20])"
      ]
     },
     "execution_count": 14,
     "metadata": {},
     "output_type": "execute_result"
    }
   ],
   "source": [
    "y"
   ]
  },
  {
   "cell_type": "code",
   "execution_count": 15,
   "metadata": {},
   "outputs": [
    {
     "data": {
      "text/plain": [
       "[{'host': 'localhost2', 'port': '12347'},\n",
       " {'host': 'localhost', 'port': '12347'},\n",
       " {'host': 'localhost', 'port': '5000'}]"
      ]
     },
     "execution_count": 15,
     "metadata": {},
     "output_type": "execute_result"
    }
   ],
   "source": [
    "worker.known_workers"
   ]
  },
  {
   "cell_type": "code",
   "execution_count": 16,
   "metadata": {},
   "outputs": [
    {
     "name": "stdout",
     "output_type": "stream",
     "text": [
      "{'error': 'Worker already known'}\n"
     ]
    },
    {
     "data": {
      "text/plain": [
       "[{'host': 'localhost2', 'port': '12347'},\n",
       " {'host': 'localhost', 'port': '12347'},\n",
       " {'host': 'localhost', 'port': '5000'}]"
      ]
     },
     "execution_count": 16,
     "metadata": {},
     "output_type": "execute_result"
    }
   ],
   "source": [
    "worker.add_known_worker(host=\"localhost\", port=5000)"
   ]
  },
  {
   "cell_type": "code",
   "execution_count": 11,
   "metadata": {},
   "outputs": [],
   "source": [
    "grid.kill_worker(worker)"
   ]
  },
  {
   "cell_type": "code",
   "execution_count": 21,
   "metadata": {},
   "outputs": [
    {
     "name": "stdout",
     "output_type": "stream",
     "text": [
      "497347 63362 63357   0  4:27PM ttys011    0:01.71 /Users/atrask/anaconda/bin/python /Users/atrask/anaconda/bin/flask run --host localhost --port 5003\n",
      "63362\n",
      "497347 63423 63362   0  4:27PM ttys011    0:31.73 /Users/atrask/anaconda/bin/python /Users/atrask/anaconda/bin/flask run --host localhost --port 5003\n",
      "63423\n",
      "497347 63370 63365   0  4:27PM ttys012    0:01.70 /Users/atrask/anaconda/bin/python /Users/atrask/anaconda/bin/flask run --host localhost --port 5004\n",
      "63370\n",
      "497347 63426 63370   0  4:27PM ttys012    0:31.94 /Users/atrask/anaconda/bin/python /Users/atrask/anaconda/bin/flask run --host localhost --port 5004\n",
      "63426\n",
      "\n"
     ]
    },
    {
     "ename": "IndexError",
     "evalue": "list index out of range",
     "output_type": "error",
     "traceback": [
      "\u001b[0;31m---------------------------------------------------------------------------\u001b[0m",
      "\u001b[0;31mIndexError\u001b[0m                                Traceback (most recent call last)",
      "\u001b[0;32m<ipython-input-21-54941fb4d4ef>\u001b[0m in \u001b[0;36m<module>\u001b[0;34m()\u001b[0m\n\u001b[1;32m     22\u001b[0m \u001b[0;32mfor\u001b[0m \u001b[0mrow\u001b[0m \u001b[0;32min\u001b[0m \u001b[0mlist\u001b[0m\u001b[0;34m(\u001b[0m\u001b[0mfilter\u001b[0m\u001b[0;34m(\u001b[0m\u001b[0;32mlambda\u001b[0m \u001b[0mx\u001b[0m\u001b[0;34m:\u001b[0m \u001b[0;34m'SCREEN'\u001b[0m \u001b[0;32mnot\u001b[0m \u001b[0;32min\u001b[0m \u001b[0mx\u001b[0m \u001b[0;32mand\u001b[0m \u001b[0;34m\"grep\"\u001b[0m \u001b[0;32mnot\u001b[0m \u001b[0;32min\u001b[0m \u001b[0mx\u001b[0m\u001b[0;34m,\u001b[0m \u001b[0mout\u001b[0m\u001b[0;34m.\u001b[0m\u001b[0mdecode\u001b[0m\u001b[0;34m(\u001b[0m\u001b[0;34m'ascii'\u001b[0m\u001b[0;34m)\u001b[0m\u001b[0;34m.\u001b[0m\u001b[0msplit\u001b[0m\u001b[0;34m(\u001b[0m\u001b[0;34m\"\\n\"\u001b[0m\u001b[0;34m)\u001b[0m\u001b[0;34m)\u001b[0m\u001b[0;34m)\u001b[0m\u001b[0;34m:\u001b[0m\u001b[0;34m\u001b[0m\u001b[0m\n\u001b[1;32m     23\u001b[0m     \u001b[0mprint\u001b[0m\u001b[0;34m(\u001b[0m\u001b[0mrow\u001b[0m\u001b[0;34m)\u001b[0m\u001b[0;34m\u001b[0m\u001b[0m\n\u001b[0;32m---> 24\u001b[0;31m     \u001b[0mpid\u001b[0m \u001b[0;34m=\u001b[0m \u001b[0mstr\u001b[0m\u001b[0;34m(\u001b[0m\u001b[0mint\u001b[0m\u001b[0;34m(\u001b[0m\u001b[0mrow\u001b[0m\u001b[0;34m.\u001b[0m\u001b[0msplit\u001b[0m\u001b[0;34m(\u001b[0m\u001b[0;34m\" \"\u001b[0m\u001b[0;34m)\u001b[0m\u001b[0;34m[\u001b[0m\u001b[0;36m1\u001b[0m\u001b[0;34m]\u001b[0m\u001b[0;34m)\u001b[0m\u001b[0;34m)\u001b[0m\u001b[0;34m\u001b[0m\u001b[0m\n\u001b[0m\u001b[1;32m     25\u001b[0m     \u001b[0mprint\u001b[0m\u001b[0;34m(\u001b[0m\u001b[0mpid\u001b[0m\u001b[0;34m)\u001b[0m\u001b[0;34m\u001b[0m\u001b[0m\n\u001b[1;32m     26\u001b[0m     \u001b[0mkill_command\u001b[0m\u001b[0;34m(\u001b[0m\u001b[0mpid\u001b[0m\u001b[0;34m)\u001b[0m\u001b[0;34m\u001b[0m\u001b[0m\n",
      "\u001b[0;31mIndexError\u001b[0m: list index out of range"
     ]
    }
   ],
   "source": [
    "import subprocess\n",
    "\n",
    "def kill_command(pid):\n",
    "    cmd = \"kill \" + pid\n",
    "    process = subprocess.Popen(\n",
    "        cmd, shell=True, stdout=subprocess.PIPE, stderr=subprocess.PIPE\n",
    "    )\n",
    "\n",
    "    # wait for the process to terminate\n",
    "    out, err = process.communicate()\n",
    "    errcode = process.returncode\n",
    "\n",
    "\n",
    "\n",
    "cmd = \"ps -ef | grep flask\"\n",
    "process = subprocess.Popen(\n",
    "    cmd, shell=True, stdout=subprocess.PIPE, stderr=subprocess.PIPE\n",
    ")\n",
    "\n",
    "# wait for the process to terminate\n",
    "out, err = process.communicate()\n",
    "for row in list(filter(lambda x: 'SCREEN' not in x and \"grep\" not in x, out.decode('ascii').split(\"\\n\"))):\n",
    "    try:\n",
    "        pid = str(int(row.split(\" \")[1]))\n",
    "        kill_command(pid)\n",
    "    except:\n",
    "        \"\""
   ]
  },
  {
   "cell_type": "code",
   "execution_count": 17,
   "metadata": {},
   "outputs": [
    {
     "data": {
      "text/plain": [
       "['__call__',\n",
       " '__class__',\n",
       " '__delattr__',\n",
       " '__dict__',\n",
       " '__dir__',\n",
       " '__doc__',\n",
       " '__eq__',\n",
       " '__format__',\n",
       " '__ge__',\n",
       " '__getattribute__',\n",
       " '__gt__',\n",
       " '__hash__',\n",
       " '__init__',\n",
       " '__init_subclass__',\n",
       " '__le__',\n",
       " '__lt__',\n",
       " '__module__',\n",
       " '__ne__',\n",
       " '__new__',\n",
       " '__reduce__',\n",
       " '__reduce_ex__',\n",
       " '__repr__',\n",
       " '__setattr__',\n",
       " '__sizeof__',\n",
       " '__str__',\n",
       " '__subclasshook__',\n",
       " '__weakref__',\n",
       " '_before_request_lock',\n",
       " '_blueprint_order',\n",
       " '_find_error_handler',\n",
       " '_get_exc_class_and_code',\n",
       " '_got_first_request',\n",
       " '_register_error_handler',\n",
       " '_static_folder',\n",
       " '_static_url_path',\n",
       " 'add_template_filter',\n",
       " 'add_template_global',\n",
       " 'add_template_test',\n",
       " 'add_url_rule',\n",
       " 'after_request',\n",
       " 'after_request_funcs',\n",
       " 'app_context',\n",
       " 'app_ctx_globals_class',\n",
       " 'auto_find_instance_path',\n",
       " 'before_first_request',\n",
       " 'before_first_request_funcs',\n",
       " 'before_request',\n",
       " 'before_request_funcs',\n",
       " 'blueprints',\n",
       " 'cli',\n",
       " 'config',\n",
       " 'config_class',\n",
       " 'context_processor',\n",
       " 'create_global_jinja_loader',\n",
       " 'create_jinja_environment',\n",
       " 'create_url_adapter',\n",
       " 'debug',\n",
       " 'default_config',\n",
       " 'dispatch_request',\n",
       " 'do_teardown_appcontext',\n",
       " 'do_teardown_request',\n",
       " 'endpoint',\n",
       " 'env',\n",
       " 'error_handler_spec',\n",
       " 'errorhandler',\n",
       " 'extensions',\n",
       " 'finalize_request',\n",
       " 'full_dispatch_request',\n",
       " 'get_send_file_max_age',\n",
       " 'got_first_request',\n",
       " 'handle_exception',\n",
       " 'handle_http_exception',\n",
       " 'handle_url_build_error',\n",
       " 'handle_user_exception',\n",
       " 'has_static_folder',\n",
       " 'import_name',\n",
       " 'inject_url_defaults',\n",
       " 'instance_path',\n",
       " 'iter_blueprints',\n",
       " 'jinja_env',\n",
       " 'jinja_environment',\n",
       " 'jinja_loader',\n",
       " 'jinja_options',\n",
       " 'json_decoder',\n",
       " 'json_encoder',\n",
       " 'log_exception',\n",
       " 'logger',\n",
       " 'make_config',\n",
       " 'make_default_options_response',\n",
       " 'make_null_session',\n",
       " 'make_response',\n",
       " 'make_shell_context',\n",
       " 'name',\n",
       " 'open_instance_resource',\n",
       " 'open_resource',\n",
       " 'open_session',\n",
       " 'permanent_session_lifetime',\n",
       " 'preprocess_request',\n",
       " 'preserve_context_on_exception',\n",
       " 'process_response',\n",
       " 'propagate_exceptions',\n",
       " 'raise_routing_exception',\n",
       " 'register_blueprint',\n",
       " 'register_error_handler',\n",
       " 'request_class',\n",
       " 'request_context',\n",
       " 'response_class',\n",
       " 'root_path',\n",
       " 'route',\n",
       " 'run',\n",
       " 'save_session',\n",
       " 'secret_key',\n",
       " 'select_jinja_autoescape',\n",
       " 'send_file_max_age_default',\n",
       " 'send_static_file',\n",
       " 'session_cookie_name',\n",
       " 'session_interface',\n",
       " 'shell_context_processor',\n",
       " 'shell_context_processors',\n",
       " 'should_ignore_error',\n",
       " 'static_folder',\n",
       " 'static_url_path',\n",
       " 'subdomain_matching',\n",
       " 'teardown_appcontext',\n",
       " 'teardown_appcontext_funcs',\n",
       " 'teardown_request',\n",
       " 'teardown_request_funcs',\n",
       " 'template_context_processors',\n",
       " 'template_filter',\n",
       " 'template_folder',\n",
       " 'template_global',\n",
       " 'template_test',\n",
       " 'templates_auto_reload',\n",
       " 'test_cli_runner',\n",
       " 'test_cli_runner_class',\n",
       " 'test_client',\n",
       " 'test_client_class',\n",
       " 'test_request_context',\n",
       " 'testing',\n",
       " 'trap_http_exception',\n",
       " 'try_trigger_before_first_request_functions',\n",
       " 'update_template_context',\n",
       " 'url_build_error_handlers',\n",
       " 'url_default_functions',\n",
       " 'url_defaults',\n",
       " 'url_map',\n",
       " 'url_rule_class',\n",
       " 'url_value_preprocessor',\n",
       " 'url_value_preprocessors',\n",
       " 'use_x_sendfile',\n",
       " 'view_functions',\n",
       " 'wsgi_app']"
      ]
     },
     "execution_count": 17,
     "metadata": {},
     "output_type": "execute_result"
    }
   ],
   "source": [
    "['__call__', '__class__', '__delattr__', '__dict__', '__dir__', '__doc__', '__eq__', '__format__', '__ge__', '__getattribute__', '__gt__', '__hash__', '__init__', '__init_subclass__', '__le__', '__lt__', '__module__', '__ne__', '__new__', '__reduce__', '__reduce_ex__', '__repr__', '__setattr__', '__sizeof__', '__str__', '__subclasshook__', '__weakref__', '_before_request_lock', '_blueprint_order', '_find_error_handler', '_get_exc_class_and_code', '_got_first_request', '_register_error_handler', '_static_folder', '_static_url_path', 'add_template_filter', 'add_template_global', 'add_template_test', 'add_url_rule', 'after_request', 'after_request_funcs', 'app_context', 'app_ctx_globals_class', 'auto_find_instance_path', 'before_first_request', 'before_first_request_funcs', 'before_request', 'before_request_funcs', 'blueprints', 'cli', 'config', 'config_class', 'context_processor', 'create_global_jinja_loader', 'create_jinja_environment', 'create_url_adapter', 'debug', 'default_config', 'dispatch_request', 'do_teardown_appcontext', 'do_teardown_request', 'endpoint', 'env', 'error_handler_spec', 'errorhandler', 'extensions', 'finalize_request', 'full_dispatch_request', 'get_send_file_max_age', 'got_first_request', 'handle_exception', 'handle_http_exception', 'handle_url_build_error', 'handle_user_exception', 'has_static_folder', 'import_name', 'inject_url_defaults', 'instance_path', 'iter_blueprints', 'jinja_env', 'jinja_environment', 'jinja_loader', 'jinja_options', 'json_decoder', 'json_encoder', 'log_exception', 'logger', 'make_config', 'make_default_options_response', 'make_null_session', 'make_response', 'make_shell_context', 'name', 'open_instance_resource', 'open_resource', 'open_session', 'permanent_session_lifetime', 'preprocess_request', 'preserve_context_on_exception', 'process_response', 'propagate_exceptions', 'raise_routing_exception', 'register_blueprint', 'register_error_handler', 'request_class', 'request_context', 'response_class', 'root_path', 'route', 'run', 'save_session', 'secret_key', 'select_jinja_autoescape', 'send_file_max_age_default', 'send_static_file', 'session_cookie_name', 'session_interface', 'shell_context_processor', 'shell_context_processors', 'should_ignore_error', 'static_folder', 'static_url_path', 'subdomain_matching', 'teardown_appcontext', 'teardown_appcontext_funcs', 'teardown_request', 'teardown_request_funcs', 'template_context_processors', 'template_filter', 'template_folder', 'template_global', 'template_test', 'templates_auto_reload', 'test_cli_runner', 'test_cli_runner_class', 'test_client', 'test_client_class', 'test_request_context', 'testing', 'trap_http_exception', 'try_trigger_before_first_request_functions', 'update_template_context', 'url_build_error_handlers', 'url_default_functions', 'url_defaults', 'url_map', 'url_rule_class', 'url_value_preprocessor', 'url_value_preprocessors', 'use_x_sendfile', 'view_functions', 'wsgi_app']"
   ]
  },
  {
   "cell_type": "code",
   "execution_count": null,
   "metadata": {},
   "outputs": [],
   "source": []
  }
 ],
 "metadata": {
  "kernelspec": {
   "display_name": "Python 3",
   "language": "python",
   "name": "python3"
  },
  "language_info": {
   "codemirror_mode": {
    "name": "ipython",
    "version": 3
   },
   "file_extension": ".py",
   "mimetype": "text/x-python",
   "name": "python",
   "nbconvert_exporter": "python",
   "pygments_lexer": "ipython3",
   "version": "3.6.1"
  }
 },
 "nbformat": 4,
 "nbformat_minor": 2
}
